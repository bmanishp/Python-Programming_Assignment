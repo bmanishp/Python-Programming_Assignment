{
 "cells": [
  {
   "cell_type": "markdown",
   "metadata": {},
   "source": [
    "Q1. Write a Python program to print &quot;Hello Python&quot;?"
   ]
  },
  {
   "cell_type": "code",
   "execution_count": 1,
   "metadata": {},
   "outputs": [
    {
     "name": "stdout",
     "output_type": "stream",
     "text": [
      "Hello Python\n"
     ]
    }
   ],
   "source": [
    "# Ans.1. \n",
    "txt=\"Hello Python\"\n",
    "print(txt)"
   ]
  },
  {
   "cell_type": "markdown",
   "metadata": {},
   "source": [
    "Q2. Write a Python program to do arithmetical operations addition and division.?"
   ]
  },
  {
   "cell_type": "code",
   "execution_count": 2,
   "metadata": {},
   "outputs": [
    {
     "name": "stdout",
     "output_type": "stream",
     "text": [
      "Addition of 10 & 5 is:  15\n",
      "Division of 10 by 5 is:  2\n"
     ]
    }
   ],
   "source": [
    "# Ans.2.\n",
    "# Addition:\n",
    "num1=10\n",
    "num2=5\n",
    "print('Addition of {} & {} is: '.format(num1,num2), num1+num2)\n",
    "print('Division of {} by {} is: '.format(num1,num2), num1//num2)"
   ]
  },
  {
   "cell_type": "markdown",
   "metadata": {},
   "source": [
    "Q3. Write a Python program to find the area of a triangle?"
   ]
  },
  {
   "cell_type": "code",
   "execution_count": 3,
   "metadata": {},
   "outputs": [
    {
     "name": "stdout",
     "output_type": "stream",
     "text": [
      "Height in cm : 15\n",
      "Base in cm: 15\n",
      "Area of a Triangle is:  112.5\n"
     ]
    }
   ],
   "source": [
    "# Ans. Area of a triangle:\n",
    "H=float(input('Height in cm : '))\n",
    "B=float(input('Base in cm: '))\n",
    "Area= (H*B)/2\n",
    "print('Area of a Triangle is: ', Area)"
   ]
  },
  {
   "cell_type": "markdown",
   "metadata": {},
   "source": [
    "Q4. Write a Python program to swap two variables?"
   ]
  },
  {
   "cell_type": "code",
   "execution_count": 4,
   "metadata": {},
   "outputs": [
    {
     "name": "stdout",
     "output_type": "stream",
     "text": [
      "x=  hi\n",
      "y=  10\n",
      "\n",
      " value after swaping variables:\n",
      "x=  10\n",
      "y=  hi\n"
     ]
    }
   ],
   "source": [
    "#Ans.\n",
    "x='hi'\n",
    "y=10\n",
    "print('x= ',x)\n",
    "print('y= ',y)\n",
    "\n",
    "#swap:\n",
    "x,y=y,x\n",
    "print('\\n value after swaping variables:')\n",
    "print('x= ',x)\n",
    "print('y= ',y)"
   ]
  },
  {
   "cell_type": "markdown",
   "metadata": {},
   "source": [
    "Q5. Write a Python program to generate a random number?"
   ]
  },
  {
   "cell_type": "code",
   "execution_count": 5,
   "metadata": {},
   "outputs": [
    {
     "data": {
      "text/plain": [
       "49"
      ]
     },
     "execution_count": 5,
     "metadata": {},
     "output_type": "execute_result"
    }
   ],
   "source": [
    "# Ans.\n",
    "import random\n",
    "random.randint(2,100)"
   ]
  }
 ],
 "metadata": {
  "kernelspec": {
   "display_name": "Python 3",
   "language": "python",
   "name": "python3"
  },
  "language_info": {
   "codemirror_mode": {
    "name": "ipython",
    "version": 3
   },
   "file_extension": ".py",
   "mimetype": "text/x-python",
   "name": "python",
   "nbconvert_exporter": "python",
   "pygments_lexer": "ipython3",
   "version": "3.7.6"
  }
 },
 "nbformat": 4,
 "nbformat_minor": 4
}
