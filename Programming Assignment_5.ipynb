{
 "cells": [
  {
   "cell_type": "markdown",
   "metadata": {},
   "source": [
    "Q1.Write a Python Program to Find LCM?"
   ]
  },
  {
   "cell_type": "code",
   "execution_count": 3,
   "metadata": {},
   "outputs": [
    {
     "name": "stdout",
     "output_type": "stream",
     "text": [
      "Enter a list of numbers [4,20,60]\n"
     ]
    },
    {
     "data": {
      "text/plain": [
       "120.0"
      ]
     },
     "execution_count": 3,
     "metadata": {},
     "output_type": "execute_result"
    }
   ],
   "source": [
    "def get_lcm():\n",
    "    \"\"\"Enter values in list to find lcm\"\"\"\n",
    "    while True:\n",
    "        try:\n",
    "            f=eval(input('Enter a list of numbers '))\n",
    "            \n",
    "            try:\n",
    "                if type(f) == list:\n",
    "                    return lcm(f)\n",
    "                        \n",
    "                else:\n",
    "                    raise ValueError(\"Enter a list of values\")\n",
    "            except ValueError as e:\n",
    "                print(e)\n",
    "            \n",
    "        except Exception as e:\n",
    "            print(e)\n",
    "            \n",
    "                     \n",
    "def lcm(a):\n",
    "    l=[]\n",
    "    for i in a:\n",
    "        k=i\n",
    "        for j in range(2,i+1):    \n",
    "            while k%j==0:\n",
    "                l.append(j)\n",
    "                k=k/j\n",
    "\n",
    "    b=1\n",
    "    for i in list(set(l)):\n",
    "        if l.count(i)%2 ==0:\n",
    "            b=b*(i**(l.count(i)/2))\n",
    "        else:\n",
    "            b=b*(i*i**((l.count(i)-1)/2))\n",
    "    return(b)\n",
    "\n",
    "\n",
    "\n",
    "\n",
    "# Execute:\n",
    "get_lcm()"
   ]
  },
  {
   "cell_type": "markdown",
   "metadata": {},
   "source": [
    "Q2.Write a Python Program to Find HCF?"
   ]
  },
  {
   "cell_type": "code",
   "execution_count": 4,
   "metadata": {
    "scrolled": true
   },
   "outputs": [
    {
     "name": "stdout",
     "output_type": "stream",
     "text": [
      "input list of two or more numbers: [20,40]\n",
      "hcf is:  20\n"
     ]
    }
   ],
   "source": [
    "# Ans.\n",
    "\n",
    "def get_hcf():\n",
    "    \"\"\"Find hcf of list having two or more numbers\"\"\"\n",
    "    \n",
    "#     a=eval(input('input list of two or more numbers: '))\n",
    "    while True:\n",
    "        try:\n",
    "            a=eval(input('input list of two or more numbers: '))\n",
    "            if type(a) in [list,tuple] and len(a)>=2:\n",
    "                break\n",
    "            else:\n",
    "                raise ValueError\n",
    "\n",
    "        except Exception as e:\n",
    "            print(e)\n",
    "        \n",
    "    l=[]\n",
    "\n",
    "    for i in range(len(a)):\n",
    "        k=a[i]\n",
    "        for j in range(2,a[i]+1):\n",
    "            while k%j==0:\n",
    "                try:\n",
    "                    l[i].append(j)\n",
    "                    k=k/j\n",
    "                except:\n",
    "                    l.append([j])\n",
    "                    k=k/j\n",
    "    l\n",
    "            \n",
    "    s=set()\n",
    "    for x in l:\n",
    "        s=s.union(set(x))\n",
    "    s\n",
    "    hcf=1\n",
    "    for i in list(s):\n",
    "        tl=[]\n",
    "        for j in l:\n",
    "            tl.append(j.count(i))\n",
    "        hcf=hcf*(i**min(tl))\n",
    "        \n",
    "    return hcf\n",
    "\n",
    "#Execution:\n",
    "print('hcf is: ',get_hcf())"
   ]
  },
  {
   "cell_type": "markdown",
   "metadata": {},
   "source": [
    "Q3.Write a Python Program to Convert Decimal to Binary, Octal and Hexadecimal?"
   ]
  },
  {
   "cell_type": "code",
   "execution_count": 9,
   "metadata": {},
   "outputs": [],
   "source": [
    "class conv():\n",
    "    def __init__(self,a):\n",
    "        self.a=a\n",
    "    \n",
    "    def decml_to_binary(self):\n",
    "        \"\"\"Convert from decimal to binary\"\"\"\n",
    "        import math\n",
    "        a=self.a\n",
    "        r=[]\n",
    "        while a>0:\n",
    "            b=math.floor(a/2)\n",
    "            c=((a/2)-b)*2\n",
    "            r.append(round(c))\n",
    "            a=b\n",
    "        return r[::-1]\n",
    "\n",
    "    def decml_to_octal(self):\n",
    "        \"\"\"convert from decimal to octal\"\"\"\n",
    "        import math\n",
    "        a=self.a\n",
    "        octal=0\n",
    "        r=[]\n",
    "        while a>0:\n",
    "            b=math.floor(a/8)\n",
    "            c=((a/8)-b)*8\n",
    "            r.append(round(c))\n",
    "            a=b\n",
    "        for i in range(len(r)):\n",
    "            v=int(r[i])*(10**i)\n",
    "            octal=octal+v\n",
    "        return octal\n",
    "\n",
    "    def decml_to_hexa(self):\n",
    "        import math\n",
    "        \"\"\"convert from decimal to hexadecimal number\"\"\"\n",
    "        a=self.a\n",
    "        h_sys={0:0,1:1,2:2,3:3,4:4,5:5,\n",
    "               6:6,7:7,8:8,9:9,10:'A',\n",
    "               11:'B',12:'C',13:'D',14:'E',15:'F'}    \n",
    "        r=[]\n",
    "        v=\"\"\n",
    "        while a>0:\n",
    "            b=math.floor(a/16)\n",
    "            c=((a/16)-b)*16\n",
    "            r.append(round(c))\n",
    "            a=b\n",
    "\n",
    "        for i in r[::-1]:\n",
    "            v=v + str(h_sys[i])\n",
    "\n",
    "        return v"
   ]
  },
  {
   "cell_type": "code",
   "execution_count": 10,
   "metadata": {},
   "outputs": [
    {
     "data": {
      "text/plain": [
       "'3A0'"
      ]
     },
     "execution_count": 10,
     "metadata": {},
     "output_type": "execute_result"
    }
   ],
   "source": [
    "a=conv(928)\n",
    "a.decml_to_hexa()"
   ]
  },
  {
   "cell_type": "markdown",
   "metadata": {},
   "source": [
    "Q4. Write a Python Program To Find ASCII value of a character?"
   ]
  },
  {
   "cell_type": "code",
   "execution_count": 11,
   "metadata": {},
   "outputs": [
    {
     "data": {
      "text/plain": [
       "TypeError('ord() expected a character, but string of length 2 found')"
      ]
     },
     "execution_count": 11,
     "metadata": {},
     "output_type": "execute_result"
    }
   ],
   "source": [
    "def get_asc(a):\n",
    "    try:\n",
    "       val=ord(a)\n",
    "    except Exception as e:\n",
    "        return(e)\n",
    "    \n",
    "    return val\n",
    "\n",
    "get_asc('ab')"
   ]
  },
  {
   "cell_type": "code",
   "execution_count": 12,
   "metadata": {},
   "outputs": [
    {
     "data": {
      "text/plain": [
       "49"
      ]
     },
     "execution_count": 12,
     "metadata": {},
     "output_type": "execute_result"
    }
   ],
   "source": [
    "ord('1')"
   ]
  },
  {
   "cell_type": "markdown",
   "metadata": {},
   "source": [
    "Q5. Write a Python Program to Make a Simple Calculator with 4 basic mathematical operations?"
   ]
  },
  {
   "cell_type": "code",
   "execution_count": 14,
   "metadata": {},
   "outputs": [],
   "source": [
    "from tkinter import *\n",
    "root=Tk()\n",
    "root.title(\"Simple Calculator\")\n",
    "\n",
    "e=Entry(root,width=36,borderwidth=5)\n",
    "e.grid(row=0,column=0,columnspan=5,padx=10,pady=10)\n",
    "\n",
    "def myclick(number):\n",
    "    current=e.get()\n",
    "    e.delete(0,END)\n",
    "    e.insert(0,str(current) + str(number))\n",
    "    \n",
    "def click_clear():\n",
    "    e.delete(0,END)\n",
    "    \n",
    "def click_add():\n",
    "    first_number=e.get()\n",
    "    global f_num\n",
    "    global math\n",
    "    math=\"addition\"\n",
    "    f_num=int(first_number)\n",
    "    e.delete(0,END)\n",
    "\n",
    "def click_sub():\n",
    "    first_number=e.get()\n",
    "    global f_num\n",
    "    global math\n",
    "    math=\"subtraction\"\n",
    "    f_num=int(first_number)\n",
    "    e.delete(0,END)\n",
    "    \n",
    "def click_mul():\n",
    "    first_number=e.get()\n",
    "    global f_num\n",
    "    global math\n",
    "    math=\"multiplication\"\n",
    "    f_num=int(first_number)\n",
    "    e.delete(0,END)\n",
    "       \n",
    "def click_div():\n",
    "    first_number=e.get()\n",
    "    global f_num\n",
    "    global math\n",
    "    math=\"division\"\n",
    "    f_num=int(first_number)\n",
    "    e.delete(0,END)\n",
    "\n",
    "def button_equal():\n",
    "    second_number=e.get()\n",
    "    e.delete(0,END)\n",
    "    if math=='addition':\n",
    "        e.insert(0,f_num+int(second_number))\n",
    "    if math=='subtraction':\n",
    "        e.insert(0,f_num-int(second_number))\n",
    "    if math=='multiplication':\n",
    "        e.insert(0,f_num*int(second_number))\n",
    "    if math=='division':\n",
    "        e.insert(0,f_num/int(second_number))\n",
    "\n",
    "b1=Button(root,text='1',padx=20,pady=15,command=lambda:myclick(1))\n",
    "b2=Button(root,text='2',padx=20,pady=15,command=lambda:myclick(2))\n",
    "b3=Button(root,text='3',padx=20,pady=15,command=lambda:myclick(3))\n",
    "b4=Button(root,text='4',padx=20,pady=15,command=lambda:myclick(4))\n",
    "b5=Button(root,text='5',padx=20,pady=15,command=lambda:myclick(5))\n",
    "b6=Button(root,text='6',padx=20,pady=15,command=lambda:myclick(6))\n",
    "b7=Button(root,text='7',padx=20,pady=15,command=lambda:myclick(7))\n",
    "b8=Button(root,text='8',padx=20,pady=15,command=lambda:myclick(8))\n",
    "b9=Button(root,text='9',padx=20,pady=15,command=lambda:myclick(9))\n",
    "b0=Button(root,text='0',padx=20,pady=15,command=lambda:myclick(0))\n",
    "\n",
    "b_add=Button(root,text='+',padx=20,pady=15,command=click_add)\n",
    "b_sub=Button(root,text='-',padx=20,pady=15,command=click_sub)\n",
    "b_mul=Button(root,text='x',padx=20,pady=15,command=click_mul)\n",
    "b_div=Button(root,text='/',padx=20,pady=15,command=click_div)\n",
    "\n",
    "b_eq=Button(root,text='=',padx=20,pady=15,command=button_equal)\n",
    "b_cl=Button(root,text='C',padx=20,pady=15,command=click_clear)\n",
    "#------\n",
    "b1.grid(row=3,column=0)\n",
    "b2.grid(row=3,column=1)\n",
    "b3.grid(row=3,column=2)\n",
    "b4.grid(row=2,column=0)\n",
    "b5.grid(row=2,column=1)\n",
    "b6.grid(row=2,column=2)\n",
    "b7.grid(row=1,column=0)\n",
    "b8.grid(row=1,column=1)\n",
    "b9.grid(row=1,column=2)\n",
    "b0.grid(row=4,column=1)\n",
    "\n",
    "b_add.grid(row=4,column=2)\n",
    "b_sub.grid(row=2,column=3)\n",
    "b_mul.grid(row=3,column=3)\n",
    "b_div.grid(row=4,column=3)\n",
    "\n",
    "b_eq.grid(row=4,column=0)\n",
    "b_cl.grid(row=1,column=3)\n",
    "#------\n",
    "root.mainloop()"
   ]
  },
  {
   "cell_type": "code",
   "execution_count": null,
   "metadata": {},
   "outputs": [],
   "source": []
  }
 ],
 "metadata": {
  "kernelspec": {
   "display_name": "Python 3",
   "language": "python",
   "name": "python3"
  },
  "language_info": {
   "codemirror_mode": {
    "name": "ipython",
    "version": 3
   },
   "file_extension": ".py",
   "mimetype": "text/x-python",
   "name": "python",
   "nbconvert_exporter": "python",
   "pygments_lexer": "ipython3",
   "version": "3.7.6"
  }
 },
 "nbformat": 4,
 "nbformat_minor": 4
}
