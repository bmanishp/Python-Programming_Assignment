{
 "cells": [
  {
   "cell_type": "markdown",
   "metadata": {},
   "source": [
    "Q1. Write a Python Program to Find the Factorial of a Number?"
   ]
  },
  {
   "cell_type": "code",
   "execution_count": 1,
   "metadata": {},
   "outputs": [
    {
     "name": "stdout",
     "output_type": "stream",
     "text": [
      "Enter a value 6\n"
     ]
    },
    {
     "data": {
      "text/plain": [
       "120"
      ]
     },
     "execution_count": 1,
     "metadata": {},
     "output_type": "execute_result"
    }
   ],
   "source": [
    "# Ans.\n",
    "def find_factorial():\n",
    "    \"\"\"This will return factorial of a given number\"\"\"\n",
    "    while True:\n",
    "        try:\n",
    "            num=int(input('Enter a value '))\n",
    "            f=1\n",
    "            for i in range(1,num):\n",
    "                f=f*i\n",
    "            return f\n",
    "        except Exception as e:\n",
    "            print(e)\n",
    "find_factorial()"
   ]
  },
  {
   "cell_type": "markdown",
   "metadata": {},
   "source": [
    "Q2. Write a Python Program to Display the multiplication Table?"
   ]
  },
  {
   "cell_type": "code",
   "execution_count": 2,
   "metadata": {},
   "outputs": [
    {
     "name": "stdout",
     "output_type": "stream",
     "text": [
      "Enter a value to generate table55\n",
      "55 X 1 = 55\n",
      "55 X 2 = 110\n",
      "55 X 3 = 165\n",
      "55 X 4 = 220\n",
      "55 X 5 = 275\n",
      "55 X 6 = 330\n",
      "55 X 7 = 385\n",
      "55 X 8 = 440\n",
      "55 X 9 = 495\n",
      "55 X 10 = 550\n"
     ]
    }
   ],
   "source": [
    "# Ans.Generate table:\n",
    "def get_table():\n",
    "    \"\"\"Generate table based on number provided\"\"\"\n",
    "    try:\n",
    "        num=int(input('Enter a value to generate table'))\n",
    "        for i in range(1,11):\n",
    "            yield('{} X {} = {}'.format(num,i,num*i))\n",
    "    except Exeption as e:\n",
    "        print(e)\n",
    "\n",
    "for i in get_table():\n",
    "    print(i)"
   ]
  },
  {
   "cell_type": "markdown",
   "metadata": {},
   "source": [
    "Q3. Write a Python Program to Print the Fibonacci sequence?"
   ]
  },
  {
   "cell_type": "code",
   "execution_count": 4,
   "metadata": {},
   "outputs": [
    {
     "name": "stdout",
     "output_type": "stream",
     "text": [
      "Enter a start number for fibonacci sequence1\n",
      "Enter a end number for fibonacci sequence10\n",
      "1\n",
      "2\n",
      "3\n",
      "5\n",
      "8\n",
      "13\n",
      "21\n",
      "34\n",
      "55\n",
      "89\n"
     ]
    }
   ],
   "source": [
    "# Ans.\n",
    "def get_fibonacci():\n",
    "    \"\"\"get fibonacci series between two numbers\"\"\"\n",
    "    try:\n",
    "        l=[]\n",
    "        num1=int(input('Enter a start number for fibonacci sequence'))\n",
    "        num2=int(input('Enter a end number for fibonacci sequence'))\n",
    "        x=num1\n",
    "        y=num1+1\n",
    "        for i in range(num1,num2+1):\n",
    "            yield (x)\n",
    "            x,y=y,x+y\n",
    "\n",
    "    except Exception as e:\n",
    "        print(e)\n",
    "        \n",
    "        \n",
    "for i in get_fibonacci():\n",
    "    print(i)"
   ]
  },
  {
   "cell_type": "markdown",
   "metadata": {},
   "source": [
    "Q4. Write a Python Program to Check Armstrong Number?"
   ]
  },
  {
   "cell_type": "code",
   "execution_count": 5,
   "metadata": {},
   "outputs": [
    {
     "name": "stdout",
     "output_type": "stream",
     "text": [
      "Enter a number: 370\n"
     ]
    },
    {
     "data": {
      "text/plain": [
       "True"
      ]
     },
     "execution_count": 5,
     "metadata": {},
     "output_type": "execute_result"
    }
   ],
   "source": [
    "# Ans.Armstrong number is a number that is equal to the sum of cubes of its digits. For example 0, 1, 153, 370, 371 and 407 are the Armstrong numbers.\n",
    "def is_armstrongno():\n",
    "    \"\"\"Check if given number is Armstrong number\"\"\"\n",
    "    try:\n",
    "        n=input(\"Enter a number: \")\n",
    "        x=0\n",
    "        for i in n:\n",
    "            x=x+(int(i)**3)\n",
    "        \n",
    "        if int(n)==x:\n",
    "            return True\n",
    "        else:\n",
    "            return False\n",
    "            \n",
    "    except Exception as e:\n",
    "        print(e)\n",
    "\n",
    "is_armstrongno()"
   ]
  },
  {
   "cell_type": "markdown",
   "metadata": {},
   "source": [
    "Q5. Write a Python Program to Find Armstrong Number in an Interval?"
   ]
  },
  {
   "cell_type": "code",
   "execution_count": 6,
   "metadata": {},
   "outputs": [
    {
     "name": "stdout",
     "output_type": "stream",
     "text": [
      "enter start number: 0\n",
      "enter end number: 1000\n",
      "0\n",
      "1\n",
      "153\n",
      "370\n",
      "371\n",
      "407\n"
     ]
    }
   ],
   "source": [
    "def get_armstrongno():\n",
    "    \"\"\"Get armstrong numbers between two numbers\"\"\"\n",
    "    try:\n",
    "        n1=int(input(\"enter start number: \"))\n",
    "        n2=int(input(\"enter end number: \"))\n",
    "\n",
    "        for i in range(n1,n2+1):\n",
    "            x=0\n",
    "            for j in str(i):\n",
    "                x=x+(int(j)**3)\n",
    "            if i==x:\n",
    "                yield i\n",
    "    except Exception as e:\n",
    "        print(e)\n",
    "        \n",
    "        \n",
    "for i in get_armstrongno():\n",
    "    print(i)"
   ]
  },
  {
   "cell_type": "markdown",
   "metadata": {},
   "source": [
    "Q6. Write a Python Program to Find the Sum of Natural Numbers?"
   ]
  },
  {
   "cell_type": "code",
   "execution_count": 7,
   "metadata": {},
   "outputs": [
    {
     "name": "stdout",
     "output_type": "stream",
     "text": [
      "Enter a positive value or '=' for sum 2\n",
      "Enter a positive value or '=' for sum 3\n",
      "Enter a positive value or '=' for sum 4\n",
      "Enter a positive value or '=' for sum -2\n",
      "Enter positive integer\n",
      "Enter a positive value or '=' for sum sf\n",
      "invalid literal for int() with base 10: 'sf'\n",
      "Enter a positive value or '=' for sum 15\n",
      "Enter a positive value or '=' for sum =\n"
     ]
    },
    {
     "data": {
      "text/plain": [
       "24"
      ]
     },
     "execution_count": 7,
     "metadata": {},
     "output_type": "execute_result"
    }
   ],
   "source": [
    "# Ans. All whole numbers from 1 to infinity are called Natural Numbers.\n",
    "\n",
    "def add_naturalno():\n",
    "    \"\"\"This function returns summation of Natural Numbers\"\"\"\n",
    "    l=[]\n",
    "    a='null'\n",
    "    while a != '=':\n",
    "        try:\n",
    "            n=input(\"Enter a positive value or '=' for sum \").strip()\n",
    "            if n==\"=\":\n",
    "                a=n\n",
    "                continue                     \n",
    "            elif type(int(n))==int and int(n)>0:\n",
    "                l.append(int(n))\n",
    "            else:\n",
    "                try:\n",
    "                    raise ValueError(\"Enter positive integer\")\n",
    "                except Exception as e:\n",
    "                    print(e)\n",
    "        except Exception as e:\n",
    "            print(e)       \n",
    "    return sum(l)  \n",
    "        \n",
    "\n",
    "add_naturalno()"
   ]
  },
  {
   "cell_type": "code",
   "execution_count": null,
   "metadata": {},
   "outputs": [],
   "source": []
  }
 ],
 "metadata": {
  "kernelspec": {
   "display_name": "Python 3",
   "language": "python",
   "name": "python3"
  },
  "language_info": {
   "codemirror_mode": {
    "name": "ipython",
    "version": 3
   },
   "file_extension": ".py",
   "mimetype": "text/x-python",
   "name": "python",
   "nbconvert_exporter": "python",
   "pygments_lexer": "ipython3",
   "version": "3.7.6"
  }
 },
 "nbformat": 4,
 "nbformat_minor": 4
}
