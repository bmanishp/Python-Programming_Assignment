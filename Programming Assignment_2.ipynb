{
 "cells": [
  {
   "cell_type": "markdown",
   "metadata": {},
   "source": [
    "Q1. Write a Python program to convert kilometers to miles?"
   ]
  },
  {
   "cell_type": "code",
   "execution_count": 1,
   "metadata": {},
   "outputs": [
    {
     "name": "stdout",
     "output_type": "stream",
     "text": [
      "enter kilometer value to convert: 55\n"
     ]
    },
    {
     "data": {
      "text/plain": [
       "'55.0 km = 34.18 mile'"
      ]
     },
     "execution_count": 1,
     "metadata": {},
     "output_type": "execute_result"
    }
   ],
   "source": [
    "def km_to_miles():\n",
    "    \"\"\"\n",
    "    converts kilometer to mile (formula: 1km/1.609 mile)\n",
    "    \"\"\"\n",
    "    while True:\n",
    "        try:\n",
    "            km=float(input('enter kilometer value to convert: '))\n",
    "            mile=round(km/1.609,2)\n",
    "            return str(km)+' km = '+str(mile)+' mile'\n",
    "        except Exception as e:\n",
    "            print(e)\n",
    "km_to_miles()"
   ]
  },
  {
   "cell_type": "markdown",
   "metadata": {},
   "source": [
    "Q2. Write a Python program to convert Celsius to Fahrenheit?"
   ]
  },
  {
   "cell_type": "code",
   "execution_count": 2,
   "metadata": {},
   "outputs": [
    {
     "name": "stdout",
     "output_type": "stream",
     "text": [
      "enter celsius value to convert to Fahrenheit: 38\n"
     ]
    },
    {
     "data": {
      "text/plain": [
       "'38.0 deg Celsius = 100.4 deg Fahrenheit'"
      ]
     },
     "execution_count": 2,
     "metadata": {},
     "output_type": "execute_result"
    }
   ],
   "source": [
    "def celc_2_feh():\n",
    "    \"\"\"\n",
    "    converts celsius to Fahrenheit (formula: (0°C × 9/5) + 32 = 32°F)\n",
    "    \"\"\"\n",
    "    while True:\n",
    "        try:\n",
    "            c=float(input('enter celsius value to convert to Fahrenheit: '))\n",
    "            f=((c*9/5)+32)\n",
    "            return str(c)+' deg Celsius = '+str(f)+' deg Fahrenheit'\n",
    "        except Exception as e:\n",
    "            print(e)\n",
    "celc_2_feh()"
   ]
  },
  {
   "cell_type": "markdown",
   "metadata": {},
   "source": [
    "Q3. Write a Python program to display calendar?"
   ]
  },
  {
   "cell_type": "code",
   "execution_count": 3,
   "metadata": {},
   "outputs": [
    {
     "name": "stdout",
     "output_type": "stream",
     "text": [
      "enter year as 'yyyy'2022\n",
      "enter month as 'mm'02\n",
      "   February 2022\n",
      "Mo Tu We Th Fr Sa Su\n",
      "    1  2  3  4  5  6\n",
      " 7  8  9 10 11 12 13\n",
      "14 15 16 17 18 19 20\n",
      "21 22 23 24 25 26 27\n",
      "28\n",
      "\n"
     ]
    }
   ],
   "source": [
    "def disp_calendar():\n",
    "    \"\"\"This function shows calender as per year and month\"\"\"\n",
    "    import calendar\n",
    "\n",
    "    while True:\n",
    "        try:\n",
    "            y=int(input(\"enter year as 'yyyy'\" ))\n",
    "            m=int(input(\"enter month as 'mm'\"))\n",
    "            return(calendar.month(y,m))\n",
    "#             break\n",
    "        except Exception as e:\n",
    "            print(e)\n",
    "\n",
    "print(disp_calendar())"
   ]
  },
  {
   "cell_type": "markdown",
   "metadata": {},
   "source": [
    "Q4.Write a Python program to solve quadratic equation?"
   ]
  },
  {
   "cell_type": "code",
   "execution_count": 4,
   "metadata": {},
   "outputs": [
    {
     "name": "stdout",
     "output_type": "stream",
     "text": [
      "for quadratic equation 'ax**2+bx+c' enter value of a: -10\n",
      "for quadratic equation 'ax**2+bx+c' enter value of b: -9\n",
      "for quadratic equation 'ax**2+bx+c' enter value of c: 1\n"
     ]
    },
    {
     "data": {
      "text/plain": [
       "('x=-1.0', 'x=0.1')"
      ]
     },
     "execution_count": 4,
     "metadata": {},
     "output_type": "execute_result"
    }
   ],
   "source": [
    "def quad_roots():\n",
    "    import math\n",
    "    \"\"\"Gives roots of quadratic equation\"\"\"\n",
    "    while True:\n",
    "        try:\n",
    "            a=int(input(\"for quadratic equation 'ax**2+bx+c' enter value of a: \"))\n",
    "            b=int(input(\"for quadratic equation 'ax**2+bx+c' enter value of b: \"))\n",
    "            c=int(input(\"for quadratic equation 'ax**2+bx+c' enter value of c: \"))\n",
    "\n",
    "    #         formula for quadratic equation root\n",
    "            try:\n",
    "                x1=(-b+math.sqrt(b**2 - 4*a*c))/(2*a)\n",
    "            except Exception as e:\n",
    "                x1=-b+(math.sqrt((b**2 - 4*a*c)*-1)*-1)/(2*a)\n",
    "\n",
    "\n",
    "            try:\n",
    "                x2=(-b-math.sqrt(b**2 - 4*a*c))/(2*a)\n",
    "            except Exception as e:\n",
    "                x2=-b-(math.sqrt((b**2 - 4*a*c)*-1)*-1)/(2*a)\n",
    "\n",
    "\n",
    "            return str('x=') +str(x1), str('x=')+str(x2)\n",
    "\n",
    "        except Exception as e:\n",
    "            print(e)\n",
    "    \n",
    "quad_roots()"
   ]
  },
  {
   "cell_type": "markdown",
   "metadata": {},
   "source": [
    "Q5. Write a Python program to swap two variables without temp variable?"
   ]
  },
  {
   "cell_type": "code",
   "execution_count": 5,
   "metadata": {},
   "outputs": [
    {
     "name": "stdout",
     "output_type": "stream",
     "text": [
      "enter value of x: -10\n",
      "enter value of y: 100\n"
     ]
    },
    {
     "data": {
      "text/plain": [
       "('After swaping x=100', 'y=-10')"
      ]
     },
     "execution_count": 5,
     "metadata": {},
     "output_type": "execute_result"
    }
   ],
   "source": [
    "# Ans.\n",
    "def swap_var():\n",
    "    \"\"\"This function swaps value of two variables\"\"\"\n",
    "    try:\n",
    "        x=int(input('enter value of x: '))\n",
    "        y=int(input('enter value of y: '))\n",
    "        \n",
    "        #swapping:\n",
    "        x,y=y,x\n",
    "        return 'After swaping x=' +str(x),'y='+str(y)\n",
    "        \n",
    "    except Exception as e:\n",
    "        print(e)\n",
    "\n",
    "swap_var()"
   ]
  }
 ],
 "metadata": {
  "kernelspec": {
   "display_name": "Python 3",
   "language": "python",
   "name": "python3"
  },
  "language_info": {
   "codemirror_mode": {
    "name": "ipython",
    "version": 3
   },
   "file_extension": ".py",
   "mimetype": "text/x-python",
   "name": "python",
   "nbconvert_exporter": "python",
   "pygments_lexer": "ipython3",
   "version": "3.7.6"
  }
 },
 "nbformat": 4,
 "nbformat_minor": 4
}
